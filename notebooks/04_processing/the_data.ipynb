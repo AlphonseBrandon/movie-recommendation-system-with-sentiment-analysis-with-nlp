{
 "cells": [
  {
   "cell_type": "code",
   "execution_count": 9,
   "metadata": {},
   "outputs": [],
   "source": [
    "import pandas as pd\n",
    "from tmdbv3api import TMDb\n",
    "import json\n",
    "import requests\n",
    "tmdb = TMDb()\n",
    "tmdb.api_key = '663ff3650c35de4553dbd25b8eb2de0d'\n",
    "from tmdbv3api import Movie\n",
    "tmdb_movie = Movie()\n",
    "import numpy as np"
   ]
  },
  {
   "cell_type": "code",
   "execution_count": 10,
   "metadata": {},
   "outputs": [],
   "source": [
    "global movie_year\n",
    "global movies_of_\n",
    "global save_data_path\n",
    "movie_year = 2020\n",
    "movies_of_ = 'movies_of_{movie_year}'\n",
    "save_data_path = 'D:/github-repos/movie-recommendation-system-with-sentiment-analysis-with-nlp/data/02_intermediate'"
   ]
  },
  {
   "cell_type": "code",
   "execution_count": 11,
   "metadata": {},
   "outputs": [],
   "source": [
    "class datapipeline:\n",
    "    def __init__(self):\n",
    "        pass"
   ]
  },
  {
   "cell_type": "code",
   "execution_count": 19,
   "metadata": {},
   "outputs": [],
   "source": [
    "def scrap_wikipedia(self):\n",
    "        '''This function scrapes wikipedia for movie data'''\n",
    "        \n",
    "        global link\n",
    "        link = \"https://en.wikipedia.org/wiki/List_of_American_films_of_{}\".format(movie_year)\n",
    "        df1 = pd.read_html(link, header=0)[2]\n",
    "        df2 = pd.read_html(link, header=0)[3]\n",
    "        df3 = pd.read_html(link, header=0)[4]\n",
    "        df4 = pd.read_html(link, header=0)[5]\n",
    "        df = pd.concat([df1, df2, df3, df4], ignore_index=True)\n",
    "        global data\n",
    "        data = df"
   ]
  },
  {
   "cell_type": "code",
   "execution_count": 13,
   "metadata": {},
   "outputs": [],
   "source": [
    "def get_genre(self, x):\n",
    "        '''This function returns the genre of the movie from the imdb link\n",
    "        :param x: movie title from scraped data'''\n",
    "\n",
    "        genres = []\n",
    "        result = tmdb_movie.search(x)\n",
    "        movie_id = result[0].id\n",
    "        response = requests.get('https://api.themoviedb.org/3/movie/{}?api_key={}'.format(movie_id,tmdb.api_key))\n",
    "        data_json = response.json()\n",
    "        if data_json['genres']:\n",
    "            genre_str = \" \" \n",
    "            for i in range(0,len(data_json['genres'])):\n",
    "                genres.append(data_json['genres'][i]['name'])\n",
    "            return genre_str.join(genres)\n",
    "        else:\n",
    "            np.NaN"
   ]
  },
  {
   "cell_type": "code",
   "execution_count": 14,
   "metadata": {},
   "outputs": [],
   "source": [
    "def make_genres_column(self):\n",
    "        data['genres'] = data['Title'].map(lambda x: self.get_genre(str(x)))"
   ]
  },
  {
   "cell_type": "code",
   "execution_count": 15,
   "metadata": {},
   "outputs": [],
   "source": [
    "def extract_features(self):\n",
    "        movies_of_ = data[['Title','Cast and crew','genres']]"
   ]
  },
  {
   "cell_type": "code",
   "execution_count": 16,
   "metadata": {},
   "outputs": [],
   "source": [
    "def get_director(self, x):\n",
    "        if \" (director)\" in x:\n",
    "            return x.split(\" (director)\")[0]\n",
    "        elif \" (directors)\" in x:\n",
    "            return x.split(\" (directors)\")[0]\n",
    "        else:\n",
    "            return x.split(\" (director/screenplay)\")[0]"
   ]
  },
  {
   "cell_type": "code",
   "execution_count": 17,
   "metadata": {},
   "outputs": [],
   "source": [
    "def make_directors_column(self):\n",
    "        movies_of_['director_name'] = movies_of_['Cast and crew'].map(lambda x: self.get_director(x))"
   ]
  },
  {
   "cell_type": "code",
   "execution_count": 21,
   "metadata": {},
   "outputs": [],
   "source": [
    "def get_actor1(self, x):\n",
    "        return ((x.split(\"screenplay); \")[-1]).split(\", \")[0])"
   ]
  },
  {
   "cell_type": "code",
   "execution_count": 22,
   "metadata": {},
   "outputs": [],
   "source": [
    "def make_actor_1_column(self):\n",
    "        movies_of_['actor_1_name'] = movies_of_['Cast and crew'].map(lambda x: self.get_actor1(x))"
   ]
  },
  {
   "cell_type": "code",
   "execution_count": 23,
   "metadata": {},
   "outputs": [],
   "source": [
    "def get_actor2(self, x):\n",
    "        if len((x.split(\"screenplay); \")[-1]).split(\", \")) < 2:\n",
    "            return np.NaN\n",
    "        else:\n",
    "            return ((x.split(\"screenplay); \")[-1]).split(\", \")[1])"
   ]
  },
  {
   "cell_type": "code",
   "execution_count": 24,
   "metadata": {},
   "outputs": [],
   "source": [
    "def make_actor_2_column(self):\n",
    "        movies_of_['actor_2_name'] = movies_of_['Cast and crew'].map(lambda x: self.get_actor2(x))"
   ]
  },
  {
   "cell_type": "code",
   "execution_count": 25,
   "metadata": {},
   "outputs": [],
   "source": [
    "def get_actor3(self, x):\n",
    "        if len((x.split(\"screenplay); \")[-1]).split(\", \")) < 3:\n",
    "            return np.NaN\n",
    "        else:\n",
    "            return ((x.split(\"screenplay); \")[-1]).split(\", \")[2])"
   ]
  },
  {
   "cell_type": "code",
   "execution_count": 26,
   "metadata": {},
   "outputs": [],
   "source": [
    "def make_actor_3_column(self):\n",
    "        movies_of_['actor_3_name'] = movies_of_['Cast and crew'].map(lambda x: self.get_actor3(x))"
   ]
  },
  {
   "cell_type": "code",
   "execution_count": 27,
   "metadata": {},
   "outputs": [],
   "source": [
    "def rename_title(self):\n",
    "        global movies_of_\n",
    "        movies_of_ = movies_of_.rename(columns={'Title':'movie_title'})"
   ]
  },
  {
   "cell_type": "code",
   "execution_count": 28,
   "metadata": {},
   "outputs": [],
   "source": [
    "def fill_missing_values(self):\n",
    "        movies_of_['actor_2_name'] = movies_of_['actor_2_name'].replace(np.nan, 'unknown')\n",
    "        movies_of_['actor_3_name'] = movies_of_['actor_3_name'].replace(np.nan, 'unknown')"
   ]
  },
  {
   "cell_type": "code",
   "execution_count": 29,
   "metadata": {},
   "outputs": [],
   "source": [
    "def make_titles_lower_case(self):\n",
    "        movies_of_['movie_title'] = movies_of_['movie_title'].str.lower() "
   ]
  },
  {
   "cell_type": "code",
   "execution_count": 30,
   "metadata": {},
   "outputs": [],
   "source": [
    "def combine_features_in_one_column(self):\n",
    "        movies_of_['comb'] = movies_of_['actor_1_name'] + ' ' + movies_of_['actor_2_name'] + ' '+ movies_of_['actor_3_name'] + ' '+ movies_of_['director_name'] +' ' + movies_of_['genres']"
   ]
  },
  {
   "cell_type": "code",
   "execution_count": 31,
   "metadata": {},
   "outputs": [],
   "source": [
    "def get_features(self):\n",
    "        global movies_of_\n",
    "        movies_of_ = movies_of_.loc[:,['director_name','actor_1_name','actor_2_name','actor_3_name','genres','movie_title']]"
   ]
  },
  {
   "cell_type": "code",
   "execution_count": 32,
   "metadata": {},
   "outputs": [],
   "source": [
    "def save_data_to_file(self):\n",
    "        global save_data_path\n",
    "        movies_of_.to_csv('{save_data_path}/{movies_of}.csv'.format(save_data_path, movies_of_), index=False)"
   ]
  },
  {
   "cell_type": "code",
   "execution_count": 33,
   "metadata": {},
   "outputs": [],
   "source": [
    "def preprocess(self):\n",
    "        self.scrap_wikipedia()\n",
    "        self.make_genres_column()\n",
    "        self.extract_features()\n",
    "        self.make_directors_column()\n",
    "        self.make_actor_1_column()\n",
    "        self.make_actor_2_column()\n",
    "        self.make_actor_3_column()\n",
    "        self.rename_title()\n",
    "        self.fill_missing_values()\n",
    "        self.make_titles_lower_case()\n",
    "        self.combine_features_in_one_column()\n",
    "        self.get_features()\n",
    "        self.save_data_to_file()"
   ]
  },
  {
   "cell_type": "code",
   "execution_count": 36,
   "metadata": {},
   "outputs": [],
   "source": [
    "data = datapipeline()"
   ]
  },
  {
   "cell_type": "code",
   "execution_count": null,
   "metadata": {},
   "outputs": [],
   "source": [
    "import pandas as pd\n",
    "from tmdbv3api import TMDb\n",
    "import json\n",
    "import requests\n",
    "tmdb = TMDb()\n",
    "tmdb.api_key = '663ff3650c35de4553dbd25b8eb2de0d'\n",
    "from tmdbv3api import Movie\n",
    "tmdb_movie = Movie()\n",
    "import numpy as np\n",
    "\n",
    "\n",
    "movie_year = 2021\n",
    "movies_of_ = 'movies_of_{movie_year}'\n",
    "save_data_path = 'D:/github-repos/movie-recommendation-system-with-sentiment-analysis-with-nlp/data/02_intermediate'\n",
    "\n",
    "\n",
    "class datapipeline:\n",
    "    def __init__(self):\n",
    "        pass\n",
    "\n",
    "    def scrap_wikipedia(self):\n",
    "        '''This function scrapes wikipedia for movie data'''\n",
    "        \n",
    "        global link\n",
    "        link = \"https://en.wikipedia.org/wiki/List_of_American_films_of_{}\".format(movie_year)\n",
    "        df1 = pd.read_html(link, header=0)[2]\n",
    "        df2 = pd.read_html(link, header=0)[3]\n",
    "        df3 = pd.read_html(link, header=0)[4]\n",
    "        df4 = pd.read_html(link, header=0)[5]\n",
    "        df = pd.concat([df1, df2, df3, df4], ignore_index=True)\n",
    "        global data\n",
    "        data = df\n",
    "\n",
    "    def get_genre(self, x):\n",
    "        '''This function returns the genre of the movie from the imdb link\n",
    "        :param x: movie title from scraped data'''\n",
    "\n",
    "        genres = []\n",
    "        result = tmdb_movie.search(x)\n",
    "        movie_id = result[0].id\n",
    "        response = requests.get('https://api.themoviedb.org/3/movie/{}?api_key={}'.format(movie_id,tmdb.api_key))\n",
    "        data_json = response.json()\n",
    "        if data_json['genres']:\n",
    "            genre_str = \" \" \n",
    "            for i in range(0,len(data_json['genres'])):\n",
    "                genres.append(data_json['genres'][i]['name'])\n",
    "            return genre_str.join(genres)\n",
    "        else:\n",
    "            np.NaN\n",
    "\n",
    "    def make_genres_column(self):\n",
    "        data['genres'] = data['Title'].map(lambda x: self.get_genre(str(x)))\n",
    "\n",
    "    def extract_features(self):\n",
    "        movies_of_ = data[['Title','Cast and crew','genres']]\n",
    "\n",
    "\n",
    "    def get_director(self, x):\n",
    "        if \" (director)\" in x:\n",
    "            return x.split(\" (director)\")[0]\n",
    "        elif \" (directors)\" in x:\n",
    "            return x.split(\" (directors)\")[0]\n",
    "        else:\n",
    "            return x.split(\" (director/screenplay)\")[0]\n",
    "\n",
    "    def make_directors_column(self):\n",
    "        movies_of_['director_name'] = movies_of_['Cast and crew'].map(lambda x: self.get_director(x))\n",
    "    \n",
    "    def get_actor1(self, x):\n",
    "        return ((x.split(\"screenplay); \")[-1]).split(\", \")[0])\n",
    "\n",
    "    def make_actor_1_column(self):\n",
    "        movies_of_['actor_1_name'] = movies_of_['Cast and crew'].map(lambda x: self.get_actor1(x))\n",
    "\n",
    "    def get_actor2(self, x):\n",
    "        if len((x.split(\"screenplay); \")[-1]).split(\", \")) < 2:\n",
    "            return np.NaN\n",
    "        else:\n",
    "            return ((x.split(\"screenplay); \")[-1]).split(\", \")[1])\n",
    "\n",
    "    def make_actor_2_column(self):\n",
    "        movies_of_['actor_2_name'] = movies_of_['Cast and crew'].map(lambda x: self.get_actor2(x))\n",
    "        \n",
    "    def get_actor3(self, x):\n",
    "        if len((x.split(\"screenplay); \")[-1]).split(\", \")) < 3:\n",
    "            return np.NaN\n",
    "        else:\n",
    "            return ((x.split(\"screenplay); \")[-1]).split(\", \")[2])\n",
    "\n",
    "    def make_actor_3_column(self):\n",
    "        movies_of_['actor_3_name'] = movies_of_['Cast and crew'].map(lambda x: self.get_actor3(x))       \n",
    "\n",
    "    def rename_title(self):\n",
    "        global movies_of_\n",
    "        movies_of_ = movies_of_.rename(columns={'Title':'movie_title'})\n",
    "\n",
    "    def fill_missing_values(self):\n",
    "        movies_of_['actor_2_name'] = movies_of_['actor_2_name'].replace(np.nan, 'unknown')\n",
    "        movies_of_['actor_3_name'] = movies_of_['actor_3_name'].replace(np.nan, 'unknown')\n",
    "\n",
    "    def make_titles_lower_case(self):\n",
    "        movies_of_['movie_title'] = movies_of_['movie_title'].str.lower() \n",
    "\n",
    "    def combine_features_in_one_column(self):\n",
    "        movies_of_['comb'] = movies_of_['actor_1_name'] + ' ' + movies_of_['actor_2_name'] + ' '+ movies_of_['actor_3_name'] + ' '+ movies_of_['director_name'] +' ' + movies_of_['genres']\n",
    "\n",
    "    def get_features(self):\n",
    "        global movies_of_\n",
    "        movies_of_ = movies_of_.loc[:,['director_name','actor_1_name','actor_2_name','actor_3_name','genres','movie_title']]\n",
    "\n",
    "    def save_data_to_file(self):\n",
    "        global save_data_path\n",
    "        movies_of_.to_csv('{save_data_path}/{movies_of}.csv'.format(save_data_path, movies_of_), index=False)       \n",
    "\n",
    "    def preprocess(self):\n",
    "        self.scrap_wikipedia()\n",
    "        self.make_genres_column()\n",
    "        self.extract_features()\n",
    "        self.make_directors_column()\n",
    "        self.make_actor_1_column()\n",
    "        self.make_actor_2_column()\n",
    "        self.make_actor_3_column()\n",
    "        self.rename_title()\n",
    "        self.fill_missing_values()\n",
    "        self.make_titles_lower_case()\n",
    "        self.combine_features_in_one_column()\n",
    "        self.get_features()\n",
    "        self.save_data_to_file()\n",
    "\n",
    "data = datapipeline()\n",
    "data.preprocess()\n"
   ]
  }
 ],
 "metadata": {
  "kernelspec": {
   "display_name": "Python 3.10.4 ('.venv': venv)",
   "language": "python",
   "name": "python3"
  },
  "language_info": {
   "codemirror_mode": {
    "name": "ipython",
    "version": 3
   },
   "file_extension": ".py",
   "mimetype": "text/x-python",
   "name": "python",
   "nbconvert_exporter": "python",
   "pygments_lexer": "ipython3",
   "version": "3.10.4"
  },
  "orig_nbformat": 4,
  "vscode": {
   "interpreter": {
    "hash": "e66e211fdcabe7509726b211a8bc7c9f7702e3f899ee2262a7b109edc9ad127c"
   }
  }
 },
 "nbformat": 4,
 "nbformat_minor": 2
}
